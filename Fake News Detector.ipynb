{
 "cells": [
  {
   "cell_type": "code",
   "execution_count": 30,
   "id": "daf83fcd",
   "metadata": {
    "ExecuteTime": {
     "start_time": "2023-05-07T11:23:17.229580Z",
     "end_time": "2023-05-07T11:23:17.266054Z"
    }
   },
   "outputs": [],
   "source": [
    "import numpy as np\n",
    "import pandas as pd\n",
    "import re\n",
    "from nltk.corpus import stopwords # the for of in with\n",
    "from nltk.stem.porter import PorterStemmer # loved loving == love\n",
    "from sklearn.feature_extraction.text import TfidfVectorizer # loved = [0.0]\n",
    "from sklearn.model_selection import train_test_split\n",
    "from sklearn.linear_model import LogisticRegression\n",
    "from sklearn.metrics import accuracy_score"
   ]
  },
  {
   "cell_type": "code",
   "execution_count": 31,
   "id": "45e95a12",
   "metadata": {
    "ExecuteTime": {
     "start_time": "2023-05-07T11:23:24.474812Z",
     "end_time": "2023-05-07T11:23:27.842894Z"
    }
   },
   "outputs": [],
   "source": [
    "news_df = pd.read_csv('train.csv')"
   ]
  },
  {
   "cell_type": "code",
   "execution_count": 32,
   "id": "46cf9073",
   "metadata": {
    "ExecuteTime": {
     "start_time": "2023-05-07T11:23:37.518866Z",
     "end_time": "2023-05-07T11:23:37.563101Z"
    }
   },
   "outputs": [
    {
     "data": {
      "text/plain": "   id                                              title              author  \\\n0   0  House Dem Aide: We Didn’t Even See Comey’s Let...       Darrell Lucus   \n1   1  FLYNN: Hillary Clinton, Big Woman on Campus - ...     Daniel J. Flynn   \n2   2                  Why the Truth Might Get You Fired  Consortiumnews.com   \n3   3  15 Civilians Killed In Single US Airstrike Hav...     Jessica Purkiss   \n4   4  Iranian woman jailed for fictional unpublished...      Howard Portnoy   \n\n                                                text  label  \n0  House Dem Aide: We Didn’t Even See Comey’s Let...      1  \n1  Ever get the feeling your life circles the rou...      0  \n2  Why the Truth Might Get You Fired October 29, ...      1  \n3  Videos 15 Civilians Killed In Single US Airstr...      1  \n4  Print \\nAn Iranian woman has been sentenced to...      1  ",
      "text/html": "<div>\n<style scoped>\n    .dataframe tbody tr th:only-of-type {\n        vertical-align: middle;\n    }\n\n    .dataframe tbody tr th {\n        vertical-align: top;\n    }\n\n    .dataframe thead th {\n        text-align: right;\n    }\n</style>\n<table border=\"1\" class=\"dataframe\">\n  <thead>\n    <tr style=\"text-align: right;\">\n      <th></th>\n      <th>id</th>\n      <th>title</th>\n      <th>author</th>\n      <th>text</th>\n      <th>label</th>\n    </tr>\n  </thead>\n  <tbody>\n    <tr>\n      <th>0</th>\n      <td>0</td>\n      <td>House Dem Aide: We Didn’t Even See Comey’s Let...</td>\n      <td>Darrell Lucus</td>\n      <td>House Dem Aide: We Didn’t Even See Comey’s Let...</td>\n      <td>1</td>\n    </tr>\n    <tr>\n      <th>1</th>\n      <td>1</td>\n      <td>FLYNN: Hillary Clinton, Big Woman on Campus - ...</td>\n      <td>Daniel J. Flynn</td>\n      <td>Ever get the feeling your life circles the rou...</td>\n      <td>0</td>\n    </tr>\n    <tr>\n      <th>2</th>\n      <td>2</td>\n      <td>Why the Truth Might Get You Fired</td>\n      <td>Consortiumnews.com</td>\n      <td>Why the Truth Might Get You Fired October 29, ...</td>\n      <td>1</td>\n    </tr>\n    <tr>\n      <th>3</th>\n      <td>3</td>\n      <td>15 Civilians Killed In Single US Airstrike Hav...</td>\n      <td>Jessica Purkiss</td>\n      <td>Videos 15 Civilians Killed In Single US Airstr...</td>\n      <td>1</td>\n    </tr>\n    <tr>\n      <th>4</th>\n      <td>4</td>\n      <td>Iranian woman jailed for fictional unpublished...</td>\n      <td>Howard Portnoy</td>\n      <td>Print \\nAn Iranian woman has been sentenced to...</td>\n      <td>1</td>\n    </tr>\n  </tbody>\n</table>\n</div>"
     },
     "execution_count": 32,
     "metadata": {},
     "output_type": "execute_result"
    }
   ],
   "source": [
    "news_df.head()"
   ]
  },
  {
   "cell_type": "code",
   "execution_count": 33,
   "id": "f860ee2f",
   "metadata": {
    "ExecuteTime": {
     "start_time": "2023-05-07T11:30:05.597931Z",
     "end_time": "2023-05-07T11:30:05.647043Z"
    }
   },
   "outputs": [
    {
     "data": {
      "text/plain": "(20800, 5)"
     },
     "execution_count": 33,
     "metadata": {},
     "output_type": "execute_result"
    }
   ],
   "source": [
    "news_df.shape"
   ]
  },
  {
   "cell_type": "code",
   "execution_count": 34,
   "id": "0c627a2d",
   "metadata": {
    "ExecuteTime": {
     "start_time": "2023-05-07T11:32:16.605713Z",
     "end_time": "2023-05-07T11:32:16.676925Z"
    }
   },
   "outputs": [
    {
     "data": {
      "text/plain": "id           0\ntitle      558\nauthor    1957\ntext        39\nlabel        0\ndtype: int64"
     },
     "execution_count": 34,
     "metadata": {},
     "output_type": "execute_result"
    }
   ],
   "source": [
    "news_df.isna().sum()"
   ]
  },
  {
   "cell_type": "code",
   "execution_count": 35,
   "id": "91f77d59",
   "metadata": {
    "ExecuteTime": {
     "start_time": "2023-05-07T11:33:54.501711Z",
     "end_time": "2023-05-07T11:33:54.533196Z"
    }
   },
   "outputs": [],
   "source": [
    "news_df = news_df.fillna(' ')"
   ]
  },
  {
   "cell_type": "code",
   "execution_count": 36,
   "id": "4e41be9f",
   "metadata": {
    "ExecuteTime": {
     "start_time": "2023-05-07T11:34:02.326466Z",
     "end_time": "2023-05-07T11:34:02.441529Z"
    }
   },
   "outputs": [
    {
     "data": {
      "text/plain": "id        0\ntitle     0\nauthor    0\ntext      0\nlabel     0\ndtype: int64"
     },
     "execution_count": 36,
     "metadata": {},
     "output_type": "execute_result"
    }
   ],
   "source": [
    "news_df.isna().sum()"
   ]
  },
  {
   "cell_type": "code",
   "execution_count": 37,
   "id": "74ea0526",
   "metadata": {
    "ExecuteTime": {
     "start_time": "2023-05-07T11:35:57.229693Z",
     "end_time": "2023-05-07T11:35:57.278790Z"
    }
   },
   "outputs": [],
   "source": [
    "news_df['content'] = news_df['author']+\" \"+news_df['title']"
   ]
  },
  {
   "cell_type": "code",
   "execution_count": 38,
   "id": "0dd45432",
   "metadata": {
    "ExecuteTime": {
     "start_time": "2023-05-07T11:36:05.868953Z",
     "end_time": "2023-05-07T11:36:05.911852Z"
    }
   },
   "outputs": [
    {
     "data": {
      "text/plain": "          id                                              title  \\\n0          0  House Dem Aide: We Didn’t Even See Comey’s Let...   \n1          1  FLYNN: Hillary Clinton, Big Woman on Campus - ...   \n2          2                  Why the Truth Might Get You Fired   \n3          3  15 Civilians Killed In Single US Airstrike Hav...   \n4          4  Iranian woman jailed for fictional unpublished...   \n...      ...                                                ...   \n20795  20795  Rapper T.I.: Trump a ’Poster Child For White S...   \n20796  20796  N.F.L. Playoffs: Schedule, Matchups and Odds -...   \n20797  20797  Macy’s Is Said to Receive Takeover Approach by...   \n20798  20798  NATO, Russia To Hold Parallel Exercises In Bal...   \n20799  20799                          What Keeps the F-35 Alive   \n\n                                          author  \\\n0                                  Darrell Lucus   \n1                                Daniel J. Flynn   \n2                             Consortiumnews.com   \n3                                Jessica Purkiss   \n4                                 Howard Portnoy   \n...                                          ...   \n20795                              Jerome Hudson   \n20796                           Benjamin Hoffman   \n20797  Michael J. de la Merced and Rachel Abrams   \n20798                                Alex Ansary   \n20799                              David Swanson   \n\n                                                    text  label  \\\n0      House Dem Aide: We Didn’t Even See Comey’s Let...      1   \n1      Ever get the feeling your life circles the rou...      0   \n2      Why the Truth Might Get You Fired October 29, ...      1   \n3      Videos 15 Civilians Killed In Single US Airstr...      1   \n4      Print \\nAn Iranian woman has been sentenced to...      1   \n...                                                  ...    ...   \n20795  Rapper T. I. unloaded on black celebrities who...      0   \n20796  When the Green Bay Packers lost to the Washing...      0   \n20797  The Macy’s of today grew from the union of sev...      0   \n20798  NATO, Russia To Hold Parallel Exercises In Bal...      1   \n20799    David Swanson is an author, activist, journa...      1   \n\n                                                 content  \n0      Darrell Lucus House Dem Aide: We Didn’t Even S...  \n1      Daniel J. Flynn FLYNN: Hillary Clinton, Big Wo...  \n2      Consortiumnews.com Why the Truth Might Get You...  \n3      Jessica Purkiss 15 Civilians Killed In Single ...  \n4      Howard Portnoy Iranian woman jailed for fictio...  \n...                                                  ...  \n20795  Jerome Hudson Rapper T.I.: Trump a ’Poster Chi...  \n20796  Benjamin Hoffman N.F.L. Playoffs: Schedule, Ma...  \n20797  Michael J. de la Merced and Rachel Abrams Macy...  \n20798  Alex Ansary NATO, Russia To Hold Parallel Exer...  \n20799            David Swanson What Keeps the F-35 Alive  \n\n[20800 rows x 6 columns]",
      "text/html": "<div>\n<style scoped>\n    .dataframe tbody tr th:only-of-type {\n        vertical-align: middle;\n    }\n\n    .dataframe tbody tr th {\n        vertical-align: top;\n    }\n\n    .dataframe thead th {\n        text-align: right;\n    }\n</style>\n<table border=\"1\" class=\"dataframe\">\n  <thead>\n    <tr style=\"text-align: right;\">\n      <th></th>\n      <th>id</th>\n      <th>title</th>\n      <th>author</th>\n      <th>text</th>\n      <th>label</th>\n      <th>content</th>\n    </tr>\n  </thead>\n  <tbody>\n    <tr>\n      <th>0</th>\n      <td>0</td>\n      <td>House Dem Aide: We Didn’t Even See Comey’s Let...</td>\n      <td>Darrell Lucus</td>\n      <td>House Dem Aide: We Didn’t Even See Comey’s Let...</td>\n      <td>1</td>\n      <td>Darrell Lucus House Dem Aide: We Didn’t Even S...</td>\n    </tr>\n    <tr>\n      <th>1</th>\n      <td>1</td>\n      <td>FLYNN: Hillary Clinton, Big Woman on Campus - ...</td>\n      <td>Daniel J. Flynn</td>\n      <td>Ever get the feeling your life circles the rou...</td>\n      <td>0</td>\n      <td>Daniel J. Flynn FLYNN: Hillary Clinton, Big Wo...</td>\n    </tr>\n    <tr>\n      <th>2</th>\n      <td>2</td>\n      <td>Why the Truth Might Get You Fired</td>\n      <td>Consortiumnews.com</td>\n      <td>Why the Truth Might Get You Fired October 29, ...</td>\n      <td>1</td>\n      <td>Consortiumnews.com Why the Truth Might Get You...</td>\n    </tr>\n    <tr>\n      <th>3</th>\n      <td>3</td>\n      <td>15 Civilians Killed In Single US Airstrike Hav...</td>\n      <td>Jessica Purkiss</td>\n      <td>Videos 15 Civilians Killed In Single US Airstr...</td>\n      <td>1</td>\n      <td>Jessica Purkiss 15 Civilians Killed In Single ...</td>\n    </tr>\n    <tr>\n      <th>4</th>\n      <td>4</td>\n      <td>Iranian woman jailed for fictional unpublished...</td>\n      <td>Howard Portnoy</td>\n      <td>Print \\nAn Iranian woman has been sentenced to...</td>\n      <td>1</td>\n      <td>Howard Portnoy Iranian woman jailed for fictio...</td>\n    </tr>\n    <tr>\n      <th>...</th>\n      <td>...</td>\n      <td>...</td>\n      <td>...</td>\n      <td>...</td>\n      <td>...</td>\n      <td>...</td>\n    </tr>\n    <tr>\n      <th>20795</th>\n      <td>20795</td>\n      <td>Rapper T.I.: Trump a ’Poster Child For White S...</td>\n      <td>Jerome Hudson</td>\n      <td>Rapper T. I. unloaded on black celebrities who...</td>\n      <td>0</td>\n      <td>Jerome Hudson Rapper T.I.: Trump a ’Poster Chi...</td>\n    </tr>\n    <tr>\n      <th>20796</th>\n      <td>20796</td>\n      <td>N.F.L. Playoffs: Schedule, Matchups and Odds -...</td>\n      <td>Benjamin Hoffman</td>\n      <td>When the Green Bay Packers lost to the Washing...</td>\n      <td>0</td>\n      <td>Benjamin Hoffman N.F.L. Playoffs: Schedule, Ma...</td>\n    </tr>\n    <tr>\n      <th>20797</th>\n      <td>20797</td>\n      <td>Macy’s Is Said to Receive Takeover Approach by...</td>\n      <td>Michael J. de la Merced and Rachel Abrams</td>\n      <td>The Macy’s of today grew from the union of sev...</td>\n      <td>0</td>\n      <td>Michael J. de la Merced and Rachel Abrams Macy...</td>\n    </tr>\n    <tr>\n      <th>20798</th>\n      <td>20798</td>\n      <td>NATO, Russia To Hold Parallel Exercises In Bal...</td>\n      <td>Alex Ansary</td>\n      <td>NATO, Russia To Hold Parallel Exercises In Bal...</td>\n      <td>1</td>\n      <td>Alex Ansary NATO, Russia To Hold Parallel Exer...</td>\n    </tr>\n    <tr>\n      <th>20799</th>\n      <td>20799</td>\n      <td>What Keeps the F-35 Alive</td>\n      <td>David Swanson</td>\n      <td>David Swanson is an author, activist, journa...</td>\n      <td>1</td>\n      <td>David Swanson What Keeps the F-35 Alive</td>\n    </tr>\n  </tbody>\n</table>\n<p>20800 rows × 6 columns</p>\n</div>"
     },
     "execution_count": 38,
     "metadata": {},
     "output_type": "execute_result"
    }
   ],
   "source": [
    "news_df"
   ]
  },
  {
   "cell_type": "code",
   "execution_count": 39,
   "id": "1e58056c",
   "metadata": {
    "ExecuteTime": {
     "start_time": "2023-05-07T11:37:09.882950Z",
     "end_time": "2023-05-07T11:37:09.901506Z"
    }
   },
   "outputs": [
    {
     "data": {
      "text/plain": "0        Darrell Lucus House Dem Aide: We Didn’t Even S...\n1        Daniel J. Flynn FLYNN: Hillary Clinton, Big Wo...\n2        Consortiumnews.com Why the Truth Might Get You...\n3        Jessica Purkiss 15 Civilians Killed In Single ...\n4        Howard Portnoy Iranian woman jailed for fictio...\n                               ...                        \n20795    Jerome Hudson Rapper T.I.: Trump a ’Poster Chi...\n20796    Benjamin Hoffman N.F.L. Playoffs: Schedule, Ma...\n20797    Michael J. de la Merced and Rachel Abrams Macy...\n20798    Alex Ansary NATO, Russia To Hold Parallel Exer...\n20799              David Swanson What Keeps the F-35 Alive\nName: content, Length: 20800, dtype: object"
     },
     "execution_count": 39,
     "metadata": {},
     "output_type": "execute_result"
    }
   ],
   "source": [
    "news_df['content']"
   ]
  },
  {
   "cell_type": "code",
   "execution_count": 40,
   "id": "5179ceab",
   "metadata": {
    "ExecuteTime": {
     "start_time": "2023-05-07T11:38:15.276218Z",
     "end_time": "2023-05-07T11:38:15.306723Z"
    }
   },
   "outputs": [],
   "source": [
    "# stemming\n",
    "ps = PorterStemmer()\n",
    "def stemming(content):\n",
    "    stemmed_content = re.sub('[^a-zA-Z]',' ',content)\n",
    "    stemmed_content = stemmed_content.lower()\n",
    "    stemmed_content = stemmed_content.split()\n",
    "    stemmed_content = [ps.stem(word) for word in stemmed_content if not word in stopwords.words('english')]\n",
    "    stemmed_content = ' '.join(stemmed_content)\n",
    "    return stemmed_content"
   ]
  },
  {
   "cell_type": "code",
   "execution_count": 42,
   "id": "8f279212",
   "metadata": {
    "ExecuteTime": {
     "start_time": "2023-05-07T11:41:24.447908Z",
     "end_time": "2023-05-07T11:42:27.751417Z"
    }
   },
   "outputs": [],
   "source": [
    "news_df['content'] = news_df['content'].apply(stemming)"
   ]
  },
  {
   "cell_type": "code",
   "execution_count": 43,
   "id": "ce87bd03",
   "metadata": {
    "ExecuteTime": {
     "start_time": "2023-05-07T11:42:46.498618Z",
     "end_time": "2023-05-07T11:42:46.551052Z"
    }
   },
   "outputs": [
    {
     "data": {
      "text/plain": "0        darrel lucu hou dem aid even see comey letter ...\n1        daniel j flynn flynn hillari clinton big woman...\n2                   consortiumnew com truth might get fire\n3        jessica purkiss civilian kill singl us airstri...\n4        howard portnoy iranian woman jail fiction unpu...\n                               ...                        \n20795    jerom hudson rapper trump poster child white s...\n20796    benjamin hoffman n f l playoff schedul matchup...\n20797    michael j de la merc rachel abram maci said re...\n20798    alex ansari nato russia hold parallel exerci b...\n20799                            david swanson keep f aliv\nName: content, Length: 20800, dtype: object"
     },
     "execution_count": 43,
     "metadata": {},
     "output_type": "execute_result"
    }
   ],
   "source": [
    "news_df['content']"
   ]
  },
  {
   "cell_type": "code",
   "execution_count": 44,
   "id": "2769d499",
   "metadata": {
    "ExecuteTime": {
     "start_time": "2023-05-07T11:43:45.095517Z",
     "end_time": "2023-05-07T11:43:45.111569Z"
    }
   },
   "outputs": [],
   "source": [
    "X = news_df['content'].values\n",
    "y = news_df['label'].values"
   ]
  },
  {
   "cell_type": "code",
   "execution_count": 45,
   "id": "303f201f",
   "metadata": {
    "ExecuteTime": {
     "start_time": "2023-05-07T11:43:53.693509Z",
     "end_time": "2023-05-07T11:43:53.793397Z"
    }
   },
   "outputs": [
    {
     "name": "stdout",
     "output_type": "stream",
     "text": [
      "['darrel lucu hou dem aid even see comey letter jason chaffetz tweet'\n",
      " 'daniel j flynn flynn hillari clinton big woman campu breitbart'\n",
      " 'consortiumnew com truth might get fire' ...\n",
      " 'michael j de la merc rachel abram maci said receiv takeov approach hudson bay new york time'\n",
      " 'alex ansari nato russia hold parallel exerci balkan'\n",
      " 'david swanson keep f aliv']\n"
     ]
    }
   ],
   "source": [
    "print(X)"
   ]
  },
  {
   "cell_type": "code",
   "execution_count": 46,
   "id": "6d8e7e2b",
   "metadata": {
    "ExecuteTime": {
     "start_time": "2023-05-07T11:45:00.826876Z",
     "end_time": "2023-05-07T11:45:01.575044Z"
    }
   },
   "outputs": [],
   "source": [
    "vector = TfidfVectorizer()\n",
    "vector.fit(X)\n",
    "X = vector.transform(X)"
   ]
  },
  {
   "cell_type": "code",
   "execution_count": 47,
   "id": "4c0251c3",
   "metadata": {
    "ExecuteTime": {
     "start_time": "2023-05-07T11:45:10.625915Z",
     "end_time": "2023-05-07T11:45:10.691266Z"
    }
   },
   "outputs": [
    {
     "name": "stdout",
     "output_type": "stream",
     "text": [
      "  (0, 15553)\t0.28485063562728646\n",
      "  (0, 13348)\t0.2565896679337957\n",
      "  (0, 8822)\t0.3635963806326075\n",
      "  (0, 8546)\t0.29212514087043684\n",
      "  (0, 7612)\t0.24785219520671603\n",
      "  (0, 6930)\t0.21874169089359144\n",
      "  (0, 4917)\t0.233316966909351\n",
      "  (0, 3759)\t0.2705332480845492\n",
      "  (0, 3567)\t0.3598939188262559\n",
      "  (0, 2933)\t0.2468450128533713\n",
      "  (0, 2464)\t0.3676519686797209\n",
      "  (0, 263)\t0.27010124977708766\n",
      "  (1, 16656)\t0.3025156488372128\n",
      "  (1, 6744)\t0.19152496072048605\n",
      "  (1, 5440)\t0.7186013955384664\n",
      "  (1, 3535)\t0.2653147533915268\n",
      "  (1, 2790)\t0.19208753385709676\n",
      "  (1, 2206)\t0.36915639258038363\n",
      "  (1, 1877)\t0.15614790568229528\n",
      "  (1, 1481)\t0.2957471154505952\n",
      "  (2, 15478)\t0.41544962664721613\n",
      "  (2, 9532)\t0.49351492943649944\n",
      "  (2, 5903)\t0.3474613386728292\n",
      "  (2, 5326)\t0.3866530551182615\n",
      "  (2, 3072)\t0.46097489583229645\n",
      "  :\t:\n",
      "  (20797, 12998)\t0.2483705036831893\n",
      "  (20797, 12227)\t0.27276402145717243\n",
      "  (20797, 12022)\t0.24790022252744132\n",
      "  (20797, 10216)\t0.0804189541935242\n",
      "  (20797, 9500)\t0.17463635692029988\n",
      "  (20797, 9431)\t0.2939494781564304\n",
      "  (20797, 8901)\t0.3617803783368178\n",
      "  (20797, 8282)\t0.22333184464489023\n",
      "  (20797, 6969)\t0.21809398920480086\n",
      "  (20797, 3610)\t0.211655450844435\n",
      "  (20797, 1274)\t0.33553980418478896\n",
      "  (20797, 689)\t0.30700415486138355\n",
      "  (20797, 43)\t0.29724348057612154\n",
      "  (20798, 12923)\t0.22363267488270608\n",
      "  (20798, 10949)\t0.4460515589182236\n",
      "  (20798, 10088)\t0.3192496370187028\n",
      "  (20798, 6816)\t0.32496285694299426\n",
      "  (20798, 4974)\t0.4083701450239529\n",
      "  (20798, 1112)\t0.4460515589182236\n",
      "  (20798, 580)\t0.3112141524638974\n",
      "  (20798, 345)\t0.28446937819072576\n",
      "  (20799, 14723)\t0.5677577267055112\n",
      "  (20799, 7955)\t0.45983893273780013\n",
      "  (20799, 3590)\t0.37927626273066584\n",
      "  (20799, 372)\t0.5677577267055112\n"
     ]
    }
   ],
   "source": [
    "print(X)"
   ]
  },
  {
   "cell_type": "code",
   "execution_count": 48,
   "id": "bb5c157e",
   "metadata": {
    "ExecuteTime": {
     "start_time": "2023-05-07T11:45:58.125337Z",
     "end_time": "2023-05-07T11:45:58.180694Z"
    }
   },
   "outputs": [],
   "source": [
    "X_train, X_test, y_train, y_test = train_test_split(X, y, test_size=0.2,stratify=y, random_state=1)"
   ]
  },
  {
   "cell_type": "code",
   "execution_count": 49,
   "id": "1facf3ee",
   "metadata": {
    "ExecuteTime": {
     "start_time": "2023-05-07T11:46:07.078712Z",
     "end_time": "2023-05-07T11:46:07.131697Z"
    }
   },
   "outputs": [
    {
     "data": {
      "text/plain": "(16640, 16984)"
     },
     "execution_count": 49,
     "metadata": {},
     "output_type": "execute_result"
    }
   ],
   "source": [
    "X_train.shape"
   ]
  },
  {
   "cell_type": "code",
   "execution_count": 50,
   "id": "5d26cdde",
   "metadata": {
    "ExecuteTime": {
     "start_time": "2023-05-07T11:47:03.769041Z",
     "end_time": "2023-05-07T11:47:03.788275Z"
    }
   },
   "outputs": [
    {
     "data": {
      "text/plain": "(4160, 16984)"
     },
     "execution_count": 50,
     "metadata": {},
     "output_type": "execute_result"
    }
   ],
   "source": [
    "X_test.shape"
   ]
  },
  {
   "cell_type": "code",
   "execution_count": 51,
   "id": "3af4f11e",
   "metadata": {
    "ExecuteTime": {
     "start_time": "2023-05-07T11:48:03.594386Z",
     "end_time": "2023-05-07T11:48:03.885957Z"
    }
   },
   "outputs": [
    {
     "data": {
      "text/plain": "LogisticRegression()",
      "text/html": "<style>#sk-container-id-2 {color: black;background-color: white;}#sk-container-id-2 pre{padding: 0;}#sk-container-id-2 div.sk-toggleable {background-color: white;}#sk-container-id-2 label.sk-toggleable__label {cursor: pointer;display: block;width: 100%;margin-bottom: 0;padding: 0.3em;box-sizing: border-box;text-align: center;}#sk-container-id-2 label.sk-toggleable__label-arrow:before {content: \"▸\";float: left;margin-right: 0.25em;color: #696969;}#sk-container-id-2 label.sk-toggleable__label-arrow:hover:before {color: black;}#sk-container-id-2 div.sk-estimator:hover label.sk-toggleable__label-arrow:before {color: black;}#sk-container-id-2 div.sk-toggleable__content {max-height: 0;max-width: 0;overflow: hidden;text-align: left;background-color: #f0f8ff;}#sk-container-id-2 div.sk-toggleable__content pre {margin: 0.2em;color: black;border-radius: 0.25em;background-color: #f0f8ff;}#sk-container-id-2 input.sk-toggleable__control:checked~div.sk-toggleable__content {max-height: 200px;max-width: 100%;overflow: auto;}#sk-container-id-2 input.sk-toggleable__control:checked~label.sk-toggleable__label-arrow:before {content: \"▾\";}#sk-container-id-2 div.sk-estimator input.sk-toggleable__control:checked~label.sk-toggleable__label {background-color: #d4ebff;}#sk-container-id-2 div.sk-label input.sk-toggleable__control:checked~label.sk-toggleable__label {background-color: #d4ebff;}#sk-container-id-2 input.sk-hidden--visually {border: 0;clip: rect(1px 1px 1px 1px);clip: rect(1px, 1px, 1px, 1px);height: 1px;margin: -1px;overflow: hidden;padding: 0;position: absolute;width: 1px;}#sk-container-id-2 div.sk-estimator {font-family: monospace;background-color: #f0f8ff;border: 1px dotted black;border-radius: 0.25em;box-sizing: border-box;margin-bottom: 0.5em;}#sk-container-id-2 div.sk-estimator:hover {background-color: #d4ebff;}#sk-container-id-2 div.sk-parallel-item::after {content: \"\";width: 100%;border-bottom: 1px solid gray;flex-grow: 1;}#sk-container-id-2 div.sk-label:hover label.sk-toggleable__label {background-color: #d4ebff;}#sk-container-id-2 div.sk-serial::before {content: \"\";position: absolute;border-left: 1px solid gray;box-sizing: border-box;top: 0;bottom: 0;left: 50%;z-index: 0;}#sk-container-id-2 div.sk-serial {display: flex;flex-direction: column;align-items: center;background-color: white;padding-right: 0.2em;padding-left: 0.2em;position: relative;}#sk-container-id-2 div.sk-item {position: relative;z-index: 1;}#sk-container-id-2 div.sk-parallel {display: flex;align-items: stretch;justify-content: center;background-color: white;position: relative;}#sk-container-id-2 div.sk-item::before, #sk-container-id-2 div.sk-parallel-item::before {content: \"\";position: absolute;border-left: 1px solid gray;box-sizing: border-box;top: 0;bottom: 0;left: 50%;z-index: -1;}#sk-container-id-2 div.sk-parallel-item {display: flex;flex-direction: column;z-index: 1;position: relative;background-color: white;}#sk-container-id-2 div.sk-parallel-item:first-child::after {align-self: flex-end;width: 50%;}#sk-container-id-2 div.sk-parallel-item:last-child::after {align-self: flex-start;width: 50%;}#sk-container-id-2 div.sk-parallel-item:only-child::after {width: 0;}#sk-container-id-2 div.sk-dashed-wrapped {border: 1px dashed gray;margin: 0 0.4em 0.5em 0.4em;box-sizing: border-box;padding-bottom: 0.4em;background-color: white;}#sk-container-id-2 div.sk-label label {font-family: monospace;font-weight: bold;display: inline-block;line-height: 1.2em;}#sk-container-id-2 div.sk-label-container {text-align: center;}#sk-container-id-2 div.sk-container {/* jupyter's `normalize.less` sets `[hidden] { display: none; }` but bootstrap.min.css set `[hidden] { display: none !important; }` so we also need the `!important` here to be able to override the default hidden behavior on the sphinx rendered scikit-learn.org. See: https://github.com/scikit-learn/scikit-learn/issues/21755 */display: inline-block !important;position: relative;}#sk-container-id-2 div.sk-text-repr-fallback {display: none;}</style><div id=\"sk-container-id-2\" class=\"sk-top-container\"><div class=\"sk-text-repr-fallback\"><pre>LogisticRegression()</pre><b>In a Jupyter environment, please rerun this cell to show the HTML representation or trust the notebook. <br />On GitHub, the HTML representation is unable to render, please try loading this page with nbviewer.org.</b></div><div class=\"sk-container\" hidden><div class=\"sk-item\"><div class=\"sk-estimator sk-toggleable\"><input class=\"sk-toggleable__control sk-hidden--visually\" id=\"sk-estimator-id-2\" type=\"checkbox\" checked><label for=\"sk-estimator-id-2\" class=\"sk-toggleable__label sk-toggleable__label-arrow\">LogisticRegression</label><div class=\"sk-toggleable__content\"><pre>LogisticRegression()</pre></div></div></div></div></div>"
     },
     "execution_count": 51,
     "metadata": {},
     "output_type": "execute_result"
    }
   ],
   "source": [
    "model = LogisticRegression()\n",
    "model.fit(X_train,y_train)"
   ]
  },
  {
   "cell_type": "code",
   "execution_count": 52,
   "id": "215d3ca9",
   "metadata": {
    "ExecuteTime": {
     "start_time": "2023-05-07T11:48:16.937479Z",
     "end_time": "2023-05-07T11:48:17.002353Z"
    }
   },
   "outputs": [
    {
     "name": "stdout",
     "output_type": "stream",
     "text": [
      "train accurracy : 0.9868990384615385\n"
     ]
    }
   ],
   "source": [
    "train_y_pred = model.predict(X_train)\n",
    "print(\"train accurracy :\",accuracy_score(train_y_pred,y_train))"
   ]
  },
  {
   "cell_type": "code",
   "execution_count": 53,
   "id": "6501c7d9",
   "metadata": {
    "ExecuteTime": {
     "start_time": "2023-05-07T11:50:27.131959Z",
     "end_time": "2023-05-07T11:50:27.146392Z"
    }
   },
   "outputs": [
    {
     "name": "stdout",
     "output_type": "stream",
     "text": [
      "train accurracy : 0.9764423076923077\n"
     ]
    }
   ],
   "source": [
    "test_y_pred = model.predict(X_test)\n",
    "print(\"train accurracy :\",accuracy_score(test_y_pred,y_test))"
   ]
  },
  {
   "cell_type": "code",
   "execution_count": 54,
   "id": "9eea49f6",
   "metadata": {
    "ExecuteTime": {
     "start_time": "2023-05-07T11:51:24.974068Z",
     "end_time": "2023-05-07T11:51:25.000233Z"
    }
   },
   "outputs": [
    {
     "name": "stdout",
     "output_type": "stream",
     "text": [
      "Fake news\n"
     ]
    }
   ],
   "source": [
    "# prediction system\n",
    "\n",
    "input_data = X_test[20]\n",
    "prediction = model.predict(input_data)\n",
    "if prediction[0] == 1:\n",
    "    print('Fake news')\n",
    "else:\n",
    "    print('Real news')"
   ]
  },
  {
   "cell_type": "code",
   "execution_count": 55,
   "id": "7d06657a",
   "metadata": {
    "ExecuteTime": {
     "start_time": "2023-05-07T11:51:41.615853Z",
     "end_time": "2023-05-07T11:51:41.679652Z"
    }
   },
   "outputs": [
    {
     "data": {
      "text/plain": "'news hope gop nude paul ryan emerg ayahuasca tent vision new republican parti'"
     },
     "execution_count": 55,
     "metadata": {},
     "output_type": "execute_result"
    }
   ],
   "source": [
    "news_df['content'][20]"
   ]
  },
  {
   "cell_type": "code",
   "execution_count": null,
   "id": "9770dd14",
   "metadata": {},
   "outputs": [],
   "source": []
  }
 ],
 "metadata": {
  "kernelspec": {
   "display_name": "Python 3 (ipykernel)",
   "language": "python",
   "name": "python3"
  },
  "language_info": {
   "codemirror_mode": {
    "name": "ipython",
    "version": 3
   },
   "file_extension": ".py",
   "mimetype": "text/x-python",
   "name": "python",
   "nbconvert_exporter": "python",
   "pygments_lexer": "ipython3",
   "version": "3.10.9"
  }
 },
 "nbformat": 4,
 "nbformat_minor": 5
}
